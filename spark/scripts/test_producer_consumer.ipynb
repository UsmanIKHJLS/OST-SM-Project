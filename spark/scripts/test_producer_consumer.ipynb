{
 "cells": [
  {
   "cell_type": "code",
   "execution_count": 2,
   "metadata": {},
   "outputs": [
    {
     "name": "stdout",
     "output_type": "stream",
     "text": [
      "Kafka broker is reachable!\n"
     ]
    }
   ],
   "source": [
    "from kafka import KafkaAdminClient\n",
    "\n",
    "try:\n",
    "    client = KafkaAdminClient(bootstrap_servers=\"localhost:9092\")  # Adjust the broker\n",
    "    print(\"Kafka broker is reachable!\")\n",
    "except Exception as e:\n",
    "    print(f\"Error: {e}\")\n"
   ]
  },
  {
   "cell_type": "code",
   "execution_count": 45,
   "metadata": {},
   "outputs": [
    {
     "name": "stdout",
     "output_type": "stream",
     "text": [
      "Message sent to test_logs, partition 0, offset 0\n"
     ]
    }
   ],
   "source": [
    "from kafka import KafkaProducer\n",
    "import json\n",
    "\n",
    "# Kafka configuration\n",
    "KAFKA_BROKER = \"localhost:9092\"  # Update if using Docker\n",
    "TOPIC = \"test_logs\"\n",
    "\n",
    "# Initialize Kafka producer\n",
    "producer = KafkaProducer(\n",
    "    bootstrap_servers=KAFKA_BROKER,\n",
    "    value_serializer=lambda v: json.dumps(v).encode(\"utf-8\"),  # Serialize to JSON\n",
    "    acks=\"all\",  # Ensure all replicas acknowledge the message\n",
    "    retries=5,  # Retry sending up to 5 times\n",
    "    request_timeout_ms=20000,  # Wait up to 20 seconds for broker response\n",
    ")\n",
    "\n",
    "# Send a message\n",
    "try:\n",
    "    future = producer.send(TOPIC, value={\"type\": \"test\", \"message\": \"Hello from Python\"})\n",
    "    result = future.get(timeout=10)  # Block until the message is acknowledged\n",
    "    print(f\"Message sent to {result.topic}, partition {result.partition}, offset {result.offset}\")\n",
    "except Exception as e:\n",
    "    print(f\"Error sending message: {e}\")\n",
    "finally:\n",
    "    producer.close()\n"
   ]
  },
  {
   "cell_type": "code",
   "execution_count": 3,
   "metadata": {},
   "outputs": [
    {
     "name": "stdout",
     "output_type": "stream",
     "text": [
      "Listening for messages on topic: industry_logs\n",
      "Consumer stopped.\n"
     ]
    }
   ],
   "source": [
    "from kafka import KafkaConsumer\n",
    "import json\n",
    "\n",
    "# Kafka broker address\n",
    "KAFKA_BROKER = \"localhost:9092\"  # Update this if running inside Docker\n",
    "\n",
    "# Kafka topic to consume messages from\n",
    "TOPIC = \"industry_logs\"  # Replace with your desired topic name\n",
    "\n",
    "# Initialize Kafka consumer\n",
    "consumer = KafkaConsumer(\n",
    "    TOPIC,\n",
    "    bootstrap_servers=KAFKA_BROKER,\n",
    "    auto_offset_reset='earliest',  # Start reading at the earliest message\n",
    "    enable_auto_commit=True,       # Automatically commit offsets\n",
    "    # group_id='my-group',           # Consumer group ID (use the same for all consumers in the group)\n",
    "    value_deserializer=lambda v: json.loads(v.decode('utf-8'))  # Deserialize JSON messages\n",
    ")\n",
    "\n",
    "print(f\"Listening for messages on topic: {TOPIC}\")\n",
    "\n",
    "try:\n",
    "    for message in consumer:\n",
    "        print(f\"Received message: {message.value}\")\n",
    "except KeyboardInterrupt:\n",
    "    print(\"Consumer stopped.\")\n",
    "finally:\n",
    "    consumer.close()  # Close the consumer connection\n"
   ]
  }
 ],
 "metadata": {
  "kernelspec": {
   "display_name": "Python 3",
   "language": "python",
   "name": "python3"
  },
  "language_info": {
   "codemirror_mode": {
    "name": "ipython",
    "version": 3
   },
   "file_extension": ".py",
   "mimetype": "text/x-python",
   "name": "python",
   "nbconvert_exporter": "python",
   "pygments_lexer": "ipython3",
   "version": "3.11.9"
  }
 },
 "nbformat": 4,
 "nbformat_minor": 2
}
