{
 "cells": [
  {
   "cell_type": "code",
   "execution_count": null,
   "id": "0ebae924-a4f3-465d-9e8f-770c165c8b65",
   "metadata": {},
   "outputs": [],
   "source": [
    "#!pip install kafka\n",
    "from confluent_kafka import Consumer, KafkaException\n",
    "import json\n",
    "\n",
    "# Configuração do Kafka Consumer\n",
    "consumer_conf = {\n",
    "    'bootstrap.servers': 'kafka:9092',  # Endereço do Kafka\n",
    "    'group.id': 'consumer-group-1',     # Nome do grupo de consumidores\n",
    "    'auto.offset.reset': 'earliest'    # Inicia do começo do tópico se não houver commits\n",
    "}\n",
    "\n",
    "# Criar o consumidor\n",
    "consumer = Consumer(consumer_conf)\n",
    "topic = 'kf-topic'\n",
    "consumer.subscribe([topic])\n",
    "\n",
    "print(f\"Consumidor Kafka conectado e escutando o tópico '{topic}'...\")\n",
    "\n",
    "try:\n",
    "    while True:\n",
    "        msg = consumer.poll(1.0)  # Aguarda mensagem por até 1 segundo\n",
    "        if msg is None:\n",
    "            continue\n",
    "        if msg.error():\n",
    "            if msg.error().code() == KafkaException._PARTITION_EOF:\n",
    "                # Fim de partição\n",
    "                continue\n",
    "            else:\n",
    "                raise KafkaException(msg.error())\n",
    "        # Decodificar a mensagem\n",
    "        try:\n",
    "            payload = json.loads(msg.value().decode('utf-8'))\n",
    "            print(f\"Mensagem recebida: {payload}\")\n",
    "        except json.JSONDecodeError as e:\n",
    "            print(f\"Erro ao decodificar mensagem: {msg.value()}. Detalhes: {e}\")\n",
    "except KeyboardInterrupt:\n",
    "    print(\"\\nEncerrando o consumidor...\")\n",
    "finally:\n",
    "    # Fechar o consumidor ao sair\n",
    "    consumer.close()\n"
   ]
  },
  {
   "cell_type": "code",
   "execution_count": null,
   "id": "afe6f139-d43d-4c49-b8b5-1fadb0647223",
   "metadata": {},
   "outputs": [],
   "source": []
  },
  {
   "cell_type": "code",
   "execution_count": null,
   "id": "6f81f236-e93f-41c8-8ca2-4a4c8022358d",
   "metadata": {},
   "outputs": [],
   "source": []
  }
 ],
 "metadata": {
  "kernelspec": {
   "display_name": "Python 3 (ipykernel)",
   "language": "python",
   "name": "python3"
  },
  "language_info": {
   "codemirror_mode": {
    "name": "ipython",
    "version": 3
   },
   "file_extension": ".py",
   "mimetype": "text/x-python",
   "name": "python",
   "nbconvert_exporter": "python",
   "pygments_lexer": "ipython3",
   "version": "3.11.6"
  }
 },
 "nbformat": 4,
 "nbformat_minor": 5
}
