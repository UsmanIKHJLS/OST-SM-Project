{
 "cells": [
  {
   "cell_type": "markdown",
   "id": "13e6ac4e-0c77-4cec-885a-96d7f45893f3",
   "metadata": {},
   "source": [
    "### Import Required Libraries"
   ]
  },
  {
   "cell_type": "code",
   "execution_count": 3,
   "id": "4d02a127-95a6-49a7-931f-ec5b883eeb14",
   "metadata": {},
   "outputs": [],
   "source": [
    "from pyspark.sql import SparkSession\n",
    "from pyspark.sql.types import StringType\n",
    "from pyspark.sql.functions import from_json, col"
   ]
  },
  {
   "cell_type": "markdown",
   "id": "eab5dbf2-8ea5-46a7-8092-c00a3eec70df",
   "metadata": {},
   "source": [
    "### Create Spark Session"
   ]
  },
  {
   "cell_type": "code",
   "execution_count": null,
   "id": "73dff711-1730-41a0-b0ef-f68408adb112",
   "metadata": {},
   "outputs": [],
   "source": [
    "spark = SparkSession.builder \\\n",
    "    .appName(\"KafkaSparkStreaming\") \\\n",
    "    .master(\"spark://spark-master:7077\") \\\n",
    "    .config(\"spark.jars.packages\", \"org.apache.spark:spark-sql-kafka-0-10_2.12:3.3.2\") \\\n",
    "    .getOrCreate()"
   ]
  },
  {
   "cell_type": "markdown",
   "id": "6f439b28-5d59-4873-9d49-4c4b13dce22a",
   "metadata": {},
   "source": [
    "### Read Data from Kafka Topic"
   ]
  },
  {
   "cell_type": "code",
   "execution_count": null,
   "id": "c8f9358c-ab72-491d-969f-a5e6395a8d31",
   "metadata": {},
   "outputs": [],
   "source": [
    "df = spark.readStream \\\n",
    "    .format(\"kafka\") \\\n",
    "    .option(\"kafka.bootstrap.servers\", \"kafka:9092\") \\\n",
    "    .option(\"subscribe\", \"icu_topic\") \\\n",
    "    .load()"
   ]
  },
  {
   "cell_type": "markdown",
   "id": "d2e04ada-d506-427b-af67-9085a79472b0",
   "metadata": {},
   "source": [
    "### Extract and Process the Kafka Value Column"
   ]
  },
  {
   "cell_type": "code",
   "execution_count": null,
   "id": "9d5d8f26-2a80-4084-9e76-067e9d650e11",
   "metadata": {},
   "outputs": [],
   "source": [
    "processed_df = df.selectExpr(\"CAST(value AS STRING)\")\n",
    "\n",
    "processed_df = processed_df.withColumnRenamed(\"value\", \"data\")"
   ]
  },
  {
   "cell_type": "markdown",
   "id": "c1a136f5-c681-4664-a0bb-29c5f86d6c76",
   "metadata": {},
   "source": [
    "### Write Processed Data to Console"
   ]
  },
  {
   "cell_type": "code",
   "execution_count": null,
   "id": "8bc430b1-2456-4c03-ab06-663f57421c5d",
   "metadata": {},
   "outputs": [],
   "source": [
    "query = processed_df.writeStream \\\n",
    "    .outputMode(\"append\") \\\n",
    "    .format(\"console\") \\\n",
    "    .start()"
   ]
  },
  {
   "cell_type": "markdown",
   "id": "a8c35513-3742-4515-8863-dad16b9853e7",
   "metadata": {},
   "source": [
    "### Await Termination"
   ]
  },
  {
   "cell_type": "code",
   "execution_count": null,
   "id": "0914ea4b-3019-4c51-9235-454057647092",
   "metadata": {},
   "outputs": [],
   "source": [
    "query.awaitTermination()"
   ]
  }
 ],
 "metadata": {
  "kernelspec": {
   "display_name": "Python 3 (ipykernel)",
   "language": "python",
   "name": "python3"
  },
  "language_info": {
   "codemirror_mode": {
    "name": "ipython",
    "version": 3
   },
   "file_extension": ".py",
   "mimetype": "text/x-python",
   "name": "python",
   "nbconvert_exporter": "python",
   "pygments_lexer": "ipython3",
   "version": "3.11.7"
  }
 },
 "nbformat": 4,
 "nbformat_minor": 5
}
