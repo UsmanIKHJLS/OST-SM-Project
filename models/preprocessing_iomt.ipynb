{
 "cells": [
  {
   "cell_type": "markdown",
   "metadata": {},
   "source": [
    "asdasdas"
   ]
  },
  {
   "cell_type": "code",
   "execution_count": 1,
   "metadata": {},
   "outputs": [],
   "source": [
    "import pandas as pd"
   ]
  },
  {
   "cell_type": "code",
   "execution_count": 2,
   "metadata": {},
   "outputs": [],
   "source": [
    "data = pd.read_csv(r'Datasets\\IoMT_Dataset.csv')"
   ]
  },
  {
   "cell_type": "code",
   "execution_count": 3,
   "metadata": {},
   "outputs": [
    {
     "data": {
      "text/html": [
       "<div>\n",
       "<style scoped>\n",
       "    .dataframe tbody tr th:only-of-type {\n",
       "        vertical-align: middle;\n",
       "    }\n",
       "\n",
       "    .dataframe tbody tr th {\n",
       "        vertical-align: top;\n",
       "    }\n",
       "\n",
       "    .dataframe thead th {\n",
       "        text-align: right;\n",
       "    }\n",
       "</style>\n",
       "<table border=\"1\" class=\"dataframe\">\n",
       "  <thead>\n",
       "    <tr style=\"text-align: right;\">\n",
       "      <th></th>\n",
       "      <th>Dir</th>\n",
       "      <th>Flgs</th>\n",
       "      <th>SrcAddr</th>\n",
       "      <th>DstAddr</th>\n",
       "      <th>Sport</th>\n",
       "      <th>Dport</th>\n",
       "      <th>SrcBytes</th>\n",
       "      <th>DstBytes</th>\n",
       "      <th>SrcLoad</th>\n",
       "      <th>DstLoad</th>\n",
       "      <th>...</th>\n",
       "      <th>Temp</th>\n",
       "      <th>SpO2</th>\n",
       "      <th>Pulse_Rate</th>\n",
       "      <th>SYS</th>\n",
       "      <th>DIA</th>\n",
       "      <th>Heart_rate</th>\n",
       "      <th>Resp_Rate</th>\n",
       "      <th>ST</th>\n",
       "      <th>Attack Category</th>\n",
       "      <th>Label</th>\n",
       "    </tr>\n",
       "  </thead>\n",
       "  <tbody>\n",
       "    <tr>\n",
       "      <th>0</th>\n",
       "      <td>-&gt;</td>\n",
       "      <td>e</td>\n",
       "      <td>10.0.1.172</td>\n",
       "      <td>10.0.1.150</td>\n",
       "      <td>58059</td>\n",
       "      <td>1111</td>\n",
       "      <td>496</td>\n",
       "      <td>186</td>\n",
       "      <td>276914.0</td>\n",
       "      <td>92305.0</td>\n",
       "      <td>...</td>\n",
       "      <td>28.9</td>\n",
       "      <td>0</td>\n",
       "      <td>0</td>\n",
       "      <td>0</td>\n",
       "      <td>0</td>\n",
       "      <td>0</td>\n",
       "      <td>0</td>\n",
       "      <td>0.0</td>\n",
       "      <td>normal</td>\n",
       "      <td>0</td>\n",
       "    </tr>\n",
       "    <tr>\n",
       "      <th>1</th>\n",
       "      <td>-&gt;</td>\n",
       "      <td>e</td>\n",
       "      <td>10.0.1.172</td>\n",
       "      <td>10.0.1.150</td>\n",
       "      <td>58062</td>\n",
       "      <td>1111</td>\n",
       "      <td>496</td>\n",
       "      <td>186</td>\n",
       "      <td>230984.0</td>\n",
       "      <td>76995.0</td>\n",
       "      <td>...</td>\n",
       "      <td>28.9</td>\n",
       "      <td>0</td>\n",
       "      <td>0</td>\n",
       "      <td>0</td>\n",
       "      <td>0</td>\n",
       "      <td>78</td>\n",
       "      <td>17</td>\n",
       "      <td>0.4</td>\n",
       "      <td>normal</td>\n",
       "      <td>0</td>\n",
       "    </tr>\n",
       "    <tr>\n",
       "      <th>2</th>\n",
       "      <td>-&gt;</td>\n",
       "      <td>e</td>\n",
       "      <td>10.0.1.172</td>\n",
       "      <td>10.0.1.150</td>\n",
       "      <td>58065</td>\n",
       "      <td>1111</td>\n",
       "      <td>496</td>\n",
       "      <td>186</td>\n",
       "      <td>218470.0</td>\n",
       "      <td>72823.0</td>\n",
       "      <td>...</td>\n",
       "      <td>28.9</td>\n",
       "      <td>89</td>\n",
       "      <td>104</td>\n",
       "      <td>0</td>\n",
       "      <td>0</td>\n",
       "      <td>78</td>\n",
       "      <td>17</td>\n",
       "      <td>0.4</td>\n",
       "      <td>normal</td>\n",
       "      <td>0</td>\n",
       "    </tr>\n",
       "  </tbody>\n",
       "</table>\n",
       "<p>3 rows × 45 columns</p>\n",
       "</div>"
      ],
      "text/plain": [
       "     Dir        Flgs     SrcAddr     DstAddr  Sport  Dport  SrcBytes  \\\n",
       "0     ->   e          10.0.1.172  10.0.1.150  58059   1111       496   \n",
       "1     ->   e          10.0.1.172  10.0.1.150  58062   1111       496   \n",
       "2     ->   e          10.0.1.172  10.0.1.150  58065   1111       496   \n",
       "\n",
       "   DstBytes   SrcLoad  DstLoad  ...  Temp  SpO2  Pulse_Rate  SYS  DIA  \\\n",
       "0       186  276914.0  92305.0  ...  28.9     0           0    0    0   \n",
       "1       186  230984.0  76995.0  ...  28.9     0           0    0    0   \n",
       "2       186  218470.0  72823.0  ...  28.9    89         104    0    0   \n",
       "\n",
       "   Heart_rate  Resp_Rate   ST  Attack Category  Label  \n",
       "0           0          0  0.0           normal      0  \n",
       "1          78         17  0.4           normal      0  \n",
       "2          78         17  0.4           normal      0  \n",
       "\n",
       "[3 rows x 45 columns]"
      ]
     },
     "execution_count": 3,
     "metadata": {},
     "output_type": "execute_result"
    }
   ],
   "source": [
    "data.head(3)"
   ]
  },
  {
   "cell_type": "code",
   "execution_count": 4,
   "metadata": {},
   "outputs": [
    {
     "data": {
      "text/plain": [
       "Dir                    1\n",
       "Flgs                   7\n",
       "SrcAddr                1\n",
       "DstAddr                1\n",
       "Sport              16314\n",
       "Dport                  1\n",
       "SrcBytes              15\n",
       "DstBytes              14\n",
       "SrcLoad             8353\n",
       "DstLoad             8195\n",
       "SrcGap                 1\n",
       "DstGap                 1\n",
       "SIntPkt             8505\n",
       "DIntPkt             6094\n",
       "SIntPktAct             8\n",
       "DIntPktAct             1\n",
       "SrcJitter          16212\n",
       "DstJitter           6046\n",
       "sMaxPktSz              2\n",
       "dMaxPktSz              2\n",
       "sMinPktSz              2\n",
       "dMinPktSz              1\n",
       "Dur                 8504\n",
       "Trans                  1\n",
       "TotPkts               12\n",
       "TotBytes              19\n",
       "Load                8385\n",
       "Loss                   3\n",
       "pLoss                  6\n",
       "pSrcLoss               3\n",
       "pDstLoss               4\n",
       "Rate                8425\n",
       "SrcMac                 2\n",
       "DstMac                 1\n",
       "Packet_num         16306\n",
       "Temp                  53\n",
       "SpO2                  18\n",
       "Pulse_Rate            78\n",
       "SYS                   12\n",
       "DIA                   19\n",
       "Heart_rate            72\n",
       "Resp_Rate             50\n",
       "ST                    40\n",
       "Attack Category        3\n",
       "Label                  2\n",
       "dtype: int64"
      ]
     },
     "execution_count": 4,
     "metadata": {},
     "output_type": "execute_result"
    }
   ],
   "source": [
    "data.nunique()"
   ]
  },
  {
   "cell_type": "code",
   "execution_count": 5,
   "metadata": {},
   "outputs": [],
   "source": [
    "data = data.loc[:, data.nunique() > 1]"
   ]
  },
  {
   "cell_type": "code",
   "execution_count": 7,
   "metadata": {},
   "outputs": [
    {
     "data": {
      "text/plain": [
       "Flgs                   7\n",
       "Sport              16314\n",
       "SrcBytes              15\n",
       "DstBytes              14\n",
       "SrcLoad             8353\n",
       "DstLoad             8195\n",
       "SIntPkt             8505\n",
       "DIntPkt             6094\n",
       "SIntPktAct             8\n",
       "SrcJitter          16212\n",
       "DstJitter           6046\n",
       "sMaxPktSz              2\n",
       "dMaxPktSz              2\n",
       "sMinPktSz              2\n",
       "Dur                 8504\n",
       "TotPkts               12\n",
       "TotBytes              19\n",
       "Load                8385\n",
       "Loss                   3\n",
       "pLoss                  6\n",
       "pSrcLoss               3\n",
       "pDstLoss               4\n",
       "Rate                8425\n",
       "SrcMac                 2\n",
       "Packet_num         16306\n",
       "Temp                  53\n",
       "SpO2                  18\n",
       "Pulse_Rate            78\n",
       "SYS                   12\n",
       "DIA                   19\n",
       "Heart_rate            72\n",
       "Resp_Rate             50\n",
       "ST                    40\n",
       "Attack Category        3\n",
       "Label                  2\n",
       "dtype: int64"
      ]
     },
     "execution_count": 7,
     "metadata": {},
     "output_type": "execute_result"
    }
   ],
   "source": [
    "data.nunique()"
   ]
  },
  {
   "cell_type": "code",
   "execution_count": 8,
   "metadata": {},
   "outputs": [
    {
     "data": {
      "text/plain": [
       "Index(['Flgs', 'Sport', 'SrcBytes', 'DstBytes', 'SrcLoad', 'DstLoad',\n",
       "       'SIntPkt', 'DIntPkt', 'SIntPktAct', 'SrcJitter', 'DstJitter',\n",
       "       'sMaxPktSz', 'dMaxPktSz', 'sMinPktSz', 'Dur', 'TotPkts', 'TotBytes',\n",
       "       'Load', 'Loss', 'pLoss', 'pSrcLoss', 'pDstLoss', 'Rate', 'SrcMac',\n",
       "       'Packet_num', 'Temp', 'SpO2', 'Pulse_Rate', 'SYS', 'DIA', 'Heart_rate',\n",
       "       'Resp_Rate', 'ST', 'Attack Category', 'Label'],\n",
       "      dtype='object')"
      ]
     },
     "execution_count": 8,
     "metadata": {},
     "output_type": "execute_result"
    }
   ],
   "source": [
    "data.columns"
   ]
  },
  {
   "cell_type": "code",
   "execution_count": null,
   "metadata": {},
   "outputs": [],
   "source": []
  }
 ],
 "metadata": {
  "kernelspec": {
   "display_name": "Python 3",
   "language": "python",
   "name": "python3"
  },
  "language_info": {
   "codemirror_mode": {
    "name": "ipython",
    "version": 3
   },
   "file_extension": ".py",
   "mimetype": "text/x-python",
   "name": "python",
   "nbconvert_exporter": "python",
   "pygments_lexer": "ipython3",
   "version": "3.10.11"
  }
 },
 "nbformat": 4,
 "nbformat_minor": 2
}
