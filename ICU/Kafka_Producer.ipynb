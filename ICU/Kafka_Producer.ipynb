{
 "cells": [
  {
   "cell_type": "markdown",
   "id": "87706a18-8ff7-47f0-b179-fd54316cda01",
   "metadata": {},
   "source": [
    "### Import Libraries and Kafka Configuration"
   ]
  },
  {
   "cell_type": "code",
   "execution_count": 6,
   "id": "91e6f84f-88c7-49f7-81ca-663b88516122",
   "metadata": {},
   "outputs": [],
   "source": [
    "from kafka import KafkaProducer\n",
    "import csv\n",
    "import json\n",
    "import time\n",
    "import os\n",
    "from tqdm import tqdm\n",
    "\n",
    "# Kafka Configuration\n",
    "KAFKA_BROKER = \"localhost:9092\"  \n",
    "KAFKA_TOPIC = \"icu_topic\"     \n",
    "\n",
    "DATASET_FILE = r\"D:\\Hungary\\Semester 2\\Open-Source Technologies for Data Science\\Practice\\Project\\ICU\\Modified_ICU_Dataset.csv\""
   ]
  },
  {
   "cell_type": "markdown",
   "id": "50920a81-28b6-485a-af3b-c004617aa1e1",
   "metadata": {},
   "source": [
    "### Initialize Kafka Producer"
   ]
  },
  {
   "cell_type": "code",
   "execution_count": 8,
   "id": "489ef047-7d00-471d-8191-74ae5e3dbc6e",
   "metadata": {},
   "outputs": [
    {
     "name": "stdout",
     "output_type": "stream",
     "text": [
      "Kafka Producer initialized.\n"
     ]
    }
   ],
   "source": [
    "producer = KafkaProducer(\n",
    "    bootstrap_servers=KAFKA_BROKER,\n",
    "    value_serializer=lambda v: json.dumps(v).encode(\"utf-8\") \n",
    ")\n",
    "\n",
    "print(\"Kafka Producer initialized.\")"
   ]
  },
  {
   "cell_type": "markdown",
   "id": "0057a31e-f676-45a9-a1ce-eb363fd6601d",
   "metadata": {},
   "source": [
    "### Define the Data Streaming Function"
   ]
  },
  {
   "cell_type": "code",
   "execution_count": 9,
   "id": "1dbd3400-4bdc-4b04-ac24-ae4494dd30df",
   "metadata": {},
   "outputs": [],
   "source": [
    "def stream_data_to_kafka(file_path, topic, producer):\n",
    "\n",
    "    print(f\"Streaming data from '{file_path}' to Kafka topic '{topic}'...\")\n",
    "\n",
    "    try:\n",
    "        with open(file_path, \"r\") as file:\n",
    "            reader = csv.DictReader(file)  \n",
    "            total_rows = sum(1 for _ in open(file_path, \"r\")) - 1  \n",
    "            file.seek(0)  \n",
    "            next(reader)  \n",
    "            \n",
    "            for row in tqdm(reader, total=total_rows, desc=\"Streaming rows\", unit=\"row\"):\n",
    "                producer.send(topic, value=row)\n",
    "                time.sleep(0.01)  \n",
    "\n",
    "    except FileNotFoundError:\n",
    "        print(f\"Error: Dataset file not found at '{file_path}'.\")\n",
    "    except Exception as e:\n",
    "        print(f\"Error during streaming: {e}\")\n",
    "    finally:\n",
    "        producer.flush()  \n",
    "        print(\"Data streaming completed.\")"
   ]
  },
  {
   "cell_type": "markdown",
   "id": "3bad891d-75bd-4e20-ad3f-2e8c339a0791",
   "metadata": {},
   "source": [
    "### Stream the Data"
   ]
  },
  {
   "cell_type": "code",
   "execution_count": 10,
   "id": "df7f5036-478b-4d64-b14e-8eec33f5f814",
   "metadata": {},
   "outputs": [
    {
     "name": "stdout",
     "output_type": "stream",
     "text": [
      "Streaming data from 'D:\\Hungary\\Semester 2\\Open-Source Technologies for Data Science\\Practice\\Project\\ICU\\Modified_ICU_Dataset.csv' to Kafka topic 'icu_topic'...\n"
     ]
    },
    {
     "name": "stderr",
     "output_type": "stream",
     "text": [
      "Streaming rows: 100%|█████████▉| 14999/15000 [04:01<00:00, 62.02row/s]"
     ]
    },
    {
     "name": "stdout",
     "output_type": "stream",
     "text": [
      "Data streaming completed.\n"
     ]
    },
    {
     "name": "stderr",
     "output_type": "stream",
     "text": [
      "\n"
     ]
    }
   ],
   "source": [
    "if not os.path.exists(DATASET_FILE):\n",
    "    print(f\"Dataset file not found: {DATASET_FILE}\")\n",
    "else:\n",
    "    stream_data_to_kafka(DATASET_FILE, KAFKA_TOPIC, producer)"
   ]
  }
 ],
 "metadata": {
  "kernelspec": {
   "display_name": "Python 3 (ipykernel)",
   "language": "python",
   "name": "python3"
  },
  "language_info": {
   "codemirror_mode": {
    "name": "ipython",
    "version": 3
   },
   "file_extension": ".py",
   "mimetype": "text/x-python",
   "name": "python",
   "nbconvert_exporter": "python",
   "pygments_lexer": "ipython3",
   "version": "3.11.7"
  }
 },
 "nbformat": 4,
 "nbformat_minor": 5
}
